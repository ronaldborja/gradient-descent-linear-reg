{
 "cells": [
  {
   "cell_type": "markdown",
   "id": "e8296c6a",
   "metadata": {},
   "source": [
    "# Implementación Regresión Líneal + Gradient Descent\n",
    "**Autor: Ronald Borja Román**"
   ]
  },
  {
   "cell_type": "code",
   "execution_count": 8,
   "id": "7cd7280f",
   "metadata": {},
   "outputs": [],
   "source": [
    "# Librerías \n",
    "import pandas as pd \n",
    "import numpy as np \n",
    "import matplotlib.pyplot as plt"
   ]
  },
  {
   "cell_type": "code",
   "execution_count": 24,
   "id": "7cd9a338",
   "metadata": {},
   "outputs": [],
   "source": [
    "class SimpleLinearRegression:\n",
    "    # Constructor: Inicializar atributos del objeto\n",
    "    def __init__(self, lr=0.1, m=0, b=0):\n",
    "        self.lr = lr\n",
    "        self.m = m\n",
    "        self.b = b \n",
    "        \n",
    "    # Descenso de gradiente -> Actualizar parametros del modelo\n",
    "    def gradient_descent(self, x, y): \n",
    "        m_gradiente = 0\n",
    "        b_gradiente = 0\n",
    "        n = len(x)\n",
    "        \n",
    "        for i in range(n): \n",
    "            xi = x[i]\n",
    "            yi = y[i]\n",
    "            \n",
    "            m_gradiente += -(2/n)*xi*(yi - (self.m * xi + self.b))\n",
    "            b_gradiente += -(2/n)*(yi - (self.m * xi + self.b))\n",
    "            \n",
    "        self.m = self.m - m_gradiente*self.lr \n",
    "        self.b = self.b - b_gradiente*self.lr \n",
    "        \n",
    "    # Entrenar el modelo\n",
    "    def train(self, x, y, epochs=500, tolerancia = 1e-5): \n",
    "        for epoch in range(epochs):\n",
    "            m_anterior, b_anterior = self.m, self.b\n",
    "            self.gradient_descent(x, y)\n",
    "            \n",
    "            # Criterio de convergencia \n",
    "            if abs(m_anterior - self.m) < tolerancia and (b_anterior - self.b) < tolerancia:\n",
    "                print(f'Se alcanzó la convergencia en la epoca {epoch}')\n",
    "                break\n",
    "             \n",
    "    # Gráficar los resultados\n",
    "    def plot_results(self, x, y, color): \n",
    "        plt.scatter(x, y, color=color)\n",
    "        plt.plot(x, self.m * x + self.b, color='red')\n",
    "        plt.xlabel('X')\n",
    "        plt.ylabel('Y')\n",
    "        plt.title('Resultados Regresión Lineal')\n",
    "        plt.show()\n",
    "        \n",
    "    def score(self, x_test, y_test): \n",
    "        assert len(x_test) == len(y_test)\n",
    "        n = len(x_test)\n",
    "        preds = self.m * x_test + self.b\n",
    "        rmse = np.sqrt(np.sum((preds - y_test)**2)/n)\n",
    "        return rmse"
   ]
  },
  {
   "cell_type": "code",
   "execution_count": 25,
   "id": "0947f9da",
   "metadata": {},
   "outputs": [],
   "source": [
    "# Prueba: \n",
    "np.random.seed(42) \n",
    "X = 2 * np.random.rand(100, 1) \n",
    "y = 4 + 3 * X + np.random.randn(100, 1)"
   ]
  },
  {
   "cell_type": "code",
   "execution_count": 26,
   "id": "3fe3a961",
   "metadata": {},
   "outputs": [
    {
     "name": "stdout",
     "output_type": "stream",
     "text": [
      "Se alcanzó la convergencia en la epoca 232\n"
     ]
    }
   ],
   "source": [
    "miModelo = SimpleLinearRegression()\n",
    "miModelo.train(X, y)"
   ]
  },
  {
   "cell_type": "code",
   "execution_count": 29,
   "id": "6536edcd",
   "metadata": {},
   "outputs": [
    {
     "data": {
      "text/plain": [
       "0.8981005481643611"
      ]
     },
     "execution_count": 29,
     "metadata": {},
     "output_type": "execute_result"
    }
   ],
   "source": [
    "miModelo.score(X, y)"
   ]
  },
  {
   "cell_type": "code",
   "execution_count": 34,
   "id": "d2355d9e",
   "metadata": {},
   "outputs": [
    {
     "data": {
      "image/png": "[encoded data removed]",
      "text/plain": [
       "<Figure size 640x480 with 1 Axes>"
      ]
     },
     "metadata": {},
     "output_type": "display_data"
    }
   ],
   "source": [
    "miModelo.plot_results(X, y, color='black')"
   ]
  },
  {
   "cell_type": "code",
   "execution_count": null,
   "id": "50b7849d",
   "metadata": {},
   "outputs": [],
   "source": []
  }
 ],
 "metadata": {
  "kernelspec": {
   "display_name": "Python 3 (ipykernel)",
   "language": "python",
   "name": "python3"
  },
  "language_info": {
   "codemirror_mode": {
    "name": "ipython",
    "version": 3
   },
   "file_extension": ".py",
   "mimetype": "text/x-python",
   "name": "python",
   "nbconvert_exporter": "python",
   "pygments_lexer": "ipython3",
   "version": "3.11.5"
  }
 },
 "nbformat": 4,
 "nbformat_minor": 5
}
